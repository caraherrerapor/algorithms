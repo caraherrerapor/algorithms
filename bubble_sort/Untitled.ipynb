{
 "cells": [
  {
   "cell_type": "code",
   "execution_count": 20,
   "metadata": {},
   "outputs": [
    {
     "name": "stdout",
     "output_type": "stream",
     "text": [
      "[3, 7, 1, 9, 12]\n",
      "[3, 1, 7, 9, 12]\n",
      "[1, 3, 7, 9, 12]\n",
      "ciclos = 2\n"
     ]
    }
   ],
   "source": [
    "a = [3,7,1,9,12]\n",
    "\n",
    "print(a)\n",
    "cont = 0\n",
    "for j in range(len(a)-1):\n",
    "    \n",
    "    for i in range(len(a)-1):\n",
    "        if (a[i]> a[i+1]):\n",
    "            temp = a[i]\n",
    "            a[i]=a[i+1]\n",
    "            a[i+1]=temp\n",
    "            cont+=1\n",
    "            print(a)\n",
    "print(\"ciclos =\",cont)        \n",
    "        \n",
    "    \n",
    "    "
   ]
  },
  {
   "cell_type": "code",
   "execution_count": 28,
   "metadata": {},
   "outputs": [
    {
     "name": "stdout",
     "output_type": "stream",
     "text": [
      "[3, 1, 7, 9, 12]\n",
      "[1, 3, 7, 9, 12]\n"
     ]
    }
   ],
   "source": [
    "a = [3,7,1,9,12]\n",
    "for i in range( 0 , len(a)- 1 ):\n",
    "    for j in range( 0 , len(a)- i- 1 ):\n",
    "        \n",
    "        if a[ j] > a[ j+ 1 ]:\n",
    "            flag = a[ j]\n",
    "            a[ j] = a[ j+ 1 ]\n",
    "            a[ j+ 1 ] = flag\n",
    "            print(a)\n"
   ]
  },
  {
   "cell_type": "code",
   "execution_count": null,
   "metadata": {},
   "outputs": [],
   "source": []
  }
 ],
 "metadata": {
  "kernelspec": {
   "display_name": "Python 3",
   "language": "python",
   "name": "python3"
  },
  "language_info": {
   "codemirror_mode": {
    "name": "ipython",
    "version": 3
   },
   "file_extension": ".py",
   "mimetype": "text/x-python",
   "name": "python",
   "nbconvert_exporter": "python",
   "pygments_lexer": "ipython3",
   "version": "3.8.5"
  }
 },
 "nbformat": 4,
 "nbformat_minor": 4
}
